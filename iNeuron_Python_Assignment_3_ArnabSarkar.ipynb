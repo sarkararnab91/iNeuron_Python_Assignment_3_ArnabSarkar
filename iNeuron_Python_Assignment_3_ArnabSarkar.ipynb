{
  "nbformat": 4,
  "nbformat_minor": 0,
  "metadata": {
    "colab": {
      "name": "iNeuron_Python_Assignment_3_ArnabSarkar.ipynb",
      "provenance": [],
      "collapsed_sections": []
    },
    "kernelspec": {
      "name": "python3",
      "display_name": "Python 3"
    }
  },
  "cells": [
    {
      "cell_type": "markdown",
      "metadata": {
        "id": "0FLZkvZuT5-9"
      },
      "source": [
        "Q-1: Reduce Function"
      ]
    },
    {
      "cell_type": "code",
      "metadata": {
        "id": "nvuDKBMmdmUu"
      },
      "source": [
        "def myreduce(func, iterable, initial=None):\n",
        "  if initial==None:\n",
        "    for i in range (0,len(iterable)-1):\n",
        "      if i==0:\n",
        "        result=func(iterable[i],iterable[i+1])\n",
        "      else:  \n",
        "        result=func(result,iterable[i+1])\n",
        "\n",
        "  if initial!=None:\n",
        "    for x in iterable :\n",
        "      result=func(initial,x)\n",
        "      initial=result\n",
        "\n",
        "  return result  \n",
        "    \n"
      ],
      "execution_count": null,
      "outputs": []
    },
    {
      "cell_type": "markdown",
      "metadata": {
        "id": "NOd0KTnOT8O3"
      },
      "source": [
        "Q-2: Filter Function"
      ]
    },
    {
      "cell_type": "code",
      "metadata": {
        "id": "lwxaM98ST9D3"
      },
      "source": [
        "def myfilter(func, iterable):\n",
        "  final_result=[]\n",
        "  for x in iterable:\n",
        "    if func!=None and func(x)==True:\n",
        "        final_result.append(x)\n",
        "    if func==None and x!=False: \n",
        "     final_result.append(x)\n",
        "\n",
        "  return final_result  "
      ],
      "execution_count": 8,
      "outputs": []
    },
    {
      "cell_type": "markdown",
      "metadata": {
        "id": "kwLQpgH6_F29"
      },
      "source": [
        "Q-3: List Comprehension"
      ]
    },
    {
      "cell_type": "code",
      "metadata": {
        "id": "yZbxOidy_LDL",
        "outputId": "a13c298a-76e6-4f00-c87c-8a650b81bea9",
        "colab": {
          "base_uri": "https://localhost:8080/",
          "height": 33
        }
      },
      "source": [
        "import itertools\n",
        "base_list=['x','y','z']\n",
        "\n",
        "list1=list(map(lambda a:[a,a*2,a*3,a*4],base_list))\n",
        "\n",
        "l1=list(itertools.chain.from_iterable(list1))\n",
        "print(l1)"
      ],
      "execution_count": 38,
      "outputs": [
        {
          "output_type": "stream",
          "text": [
            "['x', 'xx', 'xxx', 'xxxx', 'y', 'yy', 'yyy', 'yyyy', 'z', 'zz', 'zzz', 'zzzz']\n"
          ],
          "name": "stdout"
        }
      ]
    },
    {
      "cell_type": "code",
      "metadata": {
        "id": "B6yQGEiDEqJc",
        "outputId": "ae60e504-c87c-4aae-9cc1-f96c44edbfc9",
        "colab": {
          "base_uri": "https://localhost:8080/",
          "height": 33
        }
      },
      "source": [
        "import itertools\n",
        "base_list=['x','y','z']\n",
        "\n",
        "list1=list(map(lambda a:[a,a*2,a*3,a*4],base_list))\n",
        "l1 = [item for sublist in list1 for item in sublist]\n",
        "list2=[]\n",
        "\n",
        "for i in range(0,5):\n",
        " list2.append(list(filter(lambda x: len(x)==i, l1)))\n",
        "l2 = list(itertools.chain.from_iterable(list2))\n",
        "print(l2)"
      ],
      "execution_count": 39,
      "outputs": [
        {
          "output_type": "stream",
          "text": [
            "['x', 'y', 'z', 'xx', 'yy', 'zz', 'xxx', 'yyy', 'zzz', 'xxxx', 'yyyy', 'zzzz']\n"
          ],
          "name": "stdout"
        }
      ]
    },
    {
      "cell_type": "code",
      "metadata": {
        "id": "e2vyOOZxGlWx",
        "outputId": "b6271586-fbb3-4f20-ee8c-c2b68d5eea02",
        "colab": {
          "base_uri": "https://localhost:8080/",
          "height": 33
        }
      },
      "source": [
        "import itertools\n",
        "base_list=[2,3,4]\n",
        "\n",
        "list3=list(map(lambda a:[[a],[a+1],[a+2]],base_list))\n",
        "\n",
        "l3=list(itertools.chain.from_iterable(list3))\n",
        "print(l3)"
      ],
      "execution_count": 40,
      "outputs": [
        {
          "output_type": "stream",
          "text": [
            "[[2], [3], [4], [3], [4], [5], [4], [5], [6]]\n"
          ],
          "name": "stdout"
        }
      ]
    },
    {
      "cell_type": "code",
      "metadata": {
        "id": "5rlV8UN6IObC",
        "outputId": "3bb23e30-d349-4cc0-e7a9-a23793da672e",
        "colab": {
          "base_uri": "https://localhost:8080/",
          "height": 33
        }
      },
      "source": [
        "import itertools\n",
        "base_list=[2,3,4,5]\n",
        "\n",
        "l4=list(map(lambda a:[a,a+1,a+2,a+3],base_list))\n",
        "\n",
        "print(l4)"
      ],
      "execution_count": 41,
      "outputs": [
        {
          "output_type": "stream",
          "text": [
            "[[2, 3, 4, 5], [3, 4, 5, 6], [4, 5, 6, 7], [5, 6, 7, 8]]\n"
          ],
          "name": "stdout"
        }
      ]
    },
    {
      "cell_type": "code",
      "metadata": {
        "id": "C5Ha2iImJHjt",
        "outputId": "03dd5a5e-64ee-4cd6-f75c-a146cf095c48",
        "colab": {
          "base_uri": "https://localhost:8080/",
          "height": 33
        }
      },
      "source": [
        "base_list=[1,2,3]\n",
        "\n",
        "l5=list((y,x) for x in base_list for y in base_list)\n",
        "\n",
        "print(l5)\n"
      ],
      "execution_count": 48,
      "outputs": [
        {
          "output_type": "stream",
          "text": [
            "[(1, 1), (2, 1), (3, 1), (1, 2), (2, 2), (3, 2), (1, 3), (2, 3), (3, 3)]\n"
          ],
          "name": "stdout"
        }
      ]
    }
  ]
}